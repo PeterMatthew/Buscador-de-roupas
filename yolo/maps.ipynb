{
 "cells": [
  {
   "cell_type": "code",
   "execution_count": 1,
   "metadata": {},
   "outputs": [
    {
     "name": "stderr",
     "output_type": "stream",
     "text": [
      "c:\\Users\\pedro\\coding\\Buscador-de-roupas\\.venv\\Lib\\site-packages\\tqdm\\auto.py:21: TqdmWarning: IProgress not found. Please update jupyter and ipywidgets. See https://ipywidgets.readthedocs.io/en/stable/user_install.html\n",
      "  from .autonotebook import tqdm as notebook_tqdm\n"
     ]
    }
   ],
   "source": [
    "from ultralytics import YOLO"
   ]
  },
  {
   "cell_type": "markdown",
   "metadata": {},
   "source": [
    "### experimento 1"
   ]
  },
  {
   "cell_type": "code",
   "execution_count": 2,
   "metadata": {},
   "outputs": [
    {
     "name": "stdout",
     "output_type": "stream",
     "text": [
      "Ultralytics YOLOv8.1.27 🚀 Python-3.11.4 torch-2.2.1+cu121 CUDA:0 (NVIDIA GeForce RTX 2060, 6144MiB)\n",
      "Model summary (fused): 268 layers, 43616631 parameters, 0 gradients, 164.9 GFLOPs\n"
     ]
    },
    {
     "name": "stderr",
     "output_type": "stream",
     "text": [
      "\u001b[34m\u001b[1mval: \u001b[0mScanning C:\\Users\\pedro\\coding\\Buscador-de-roupas\\yolo\\datasets\\labels\\train... 2267 images, 0 backgrounds, 0 corrupt: 100%|██████████| 2267/2267 [00:03<00:00, 665.79it/s]\n"
     ]
    },
    {
     "name": "stdout",
     "output_type": "stream",
     "text": [
      "\u001b[34m\u001b[1mval: \u001b[0mNew cache created: C:\\Users\\pedro\\coding\\Buscador-de-roupas\\yolo\\datasets\\labels\\train.cache\n"
     ]
    },
    {
     "name": "stderr",
     "output_type": "stream",
     "text": [
      "                 Class     Images  Instances      Box(P          R      mAP50  mAP50-95): 100%|██████████| 142/142 [01:36<00:00,  1.47it/s]\n"
     ]
    },
    {
     "name": "stdout",
     "output_type": "stream",
     "text": [
      "                   all       2267       3814      0.908      0.886      0.954      0.854\n",
      "      short_sleeve_top       2267        543      0.907      0.936      0.973      0.877\n",
      "              trousers       2267        502      0.979      0.939      0.987      0.858\n",
      "                shorts       2267        465      0.946      0.946      0.984      0.847\n",
      "       long_sleeve_top       2267        320      0.931      0.848      0.956      0.853\n",
      "                 skirt       2267        374      0.944      0.952      0.985      0.887\n",
      "            vest_dress       2267        212       0.84      0.811      0.894      0.827\n",
      "    short_sleeve_dress       2267        182      0.875      0.918      0.955      0.883\n",
      "                  vest       2267        247      0.901      0.888       0.96      0.836\n",
      "   long_sleeve_outwear       2267        228      0.877      0.908      0.964      0.889\n",
      "     long_sleeve_dress       2267        182      0.946      0.865      0.963        0.9\n",
      "           sling_dress       2267        196      0.901      0.801      0.901      0.782\n",
      "                 sling       2267        186      0.907      0.838      0.936      0.787\n",
      "  short_sleeve_outwear       2267        177      0.845      0.865      0.945      0.873\n",
      "Speed: 0.3ms preprocess, 38.6ms inference, 0.0ms loss, 0.7ms postprocess per image\n",
      "Results saved to \u001b[1mruns\\detect\\val18\u001b[0m\n"
     ]
    }
   ],
   "source": [
    "model = YOLO('runs/detect/train/weights/best.pt')\n",
    "metrics = model.val(data='config.yaml', split='train')"
   ]
  },
  {
   "cell_type": "code",
   "execution_count": 3,
   "metadata": {},
   "outputs": [
    {
     "name": "stdout",
     "output_type": "stream",
     "text": [
      "Ultralytics YOLOv8.1.27 🚀 Python-3.11.4 torch-2.2.1+cu121 CUDA:0 (NVIDIA GeForce RTX 2060, 6144MiB)\n",
      "Model summary (fused): 268 layers, 43616631 parameters, 0 gradients, 164.9 GFLOPs\n"
     ]
    },
    {
     "name": "stderr",
     "output_type": "stream",
     "text": [
      "\u001b[34m\u001b[1mval: \u001b[0mScanning C:\\Users\\pedro\\coding\\Buscador-de-roupas\\yolo\\datasets\\labels\\test... 494 images, 0 backgrounds, 0 corrupt: 100%|██████████| 494/494 [00:00<00:00, 514.58it/s]\n"
     ]
    },
    {
     "name": "stdout",
     "output_type": "stream",
     "text": [
      "\u001b[34m\u001b[1mval: \u001b[0mNew cache created: C:\\Users\\pedro\\coding\\Buscador-de-roupas\\yolo\\datasets\\labels\\test.cache\n"
     ]
    },
    {
     "name": "stderr",
     "output_type": "stream",
     "text": [
      "                 Class     Images  Instances      Box(P          R      mAP50  mAP50-95): 100%|██████████| 31/31 [00:25<00:00,  1.21it/s]\n"
     ]
    },
    {
     "name": "stdout",
     "output_type": "stream",
     "text": [
      "                   all        494        835      0.636      0.639      0.695       0.56\n",
      "      short_sleeve_top        494        111      0.693      0.811      0.868      0.712\n",
      "              trousers        494        118      0.865      0.831      0.919      0.689\n",
      "                shorts        494        102      0.825      0.755       0.85      0.669\n",
      "       long_sleeve_top        494         62      0.501        0.5      0.485       0.36\n",
      "                 skirt        494         82      0.632      0.598      0.585       0.47\n",
      "            vest_dress        494         49      0.545       0.51      0.534      0.456\n",
      "    short_sleeve_dress        494         40      0.549      0.699      0.682      0.593\n",
      "                  vest        494         55      0.629      0.636      0.721      0.553\n",
      "   long_sleeve_outwear        494         53      0.731      0.565      0.719      0.605\n",
      "     long_sleeve_dress        494         41      0.501      0.514      0.591      0.528\n",
      "           sling_dress        494         41      0.472      0.488      0.614      0.478\n",
      "                 sling        494         41       0.68      0.707      0.748      0.585\n",
      "  short_sleeve_outwear        494         40      0.646        0.7      0.725      0.588\n",
      "Speed: 1.0ms preprocess, 44.1ms inference, 0.0ms loss, 1.6ms postprocess per image\n",
      "Results saved to \u001b[1mruns\\detect\\val19\u001b[0m\n"
     ]
    }
   ],
   "source": [
    "model = YOLO('runs/detect/train/weights/best.pt')\n",
    "metrics = model.val(data='config.yaml', split='test')"
   ]
  },
  {
   "cell_type": "code",
   "execution_count": 4,
   "metadata": {},
   "outputs": [
    {
     "name": "stdout",
     "output_type": "stream",
     "text": [
      "Ultralytics YOLOv8.1.27 🚀 Python-3.11.4 torch-2.2.1+cu121 CUDA:0 (NVIDIA GeForce RTX 2060, 6144MiB)\n",
      "Model summary (fused): 268 layers, 43616631 parameters, 0 gradients, 164.9 GFLOPs\n"
     ]
    },
    {
     "name": "stderr",
     "output_type": "stream",
     "text": [
      "\u001b[34m\u001b[1mval: \u001b[0mScanning C:\\Users\\pedro\\coding\\Buscador-de-roupas\\yolo\\datasets\\labels\\val... 481 images, 0 backgrounds, 0 corrupt: 100%|██████████| 481/481 [00:00<00:00, 603.51it/s]"
     ]
    },
    {
     "name": "stdout",
     "output_type": "stream",
     "text": [
      "\u001b[34m\u001b[1mval: \u001b[0mNew cache created: C:\\Users\\pedro\\coding\\Buscador-de-roupas\\yolo\\datasets\\labels\\val.cache\n"
     ]
    },
    {
     "name": "stderr",
     "output_type": "stream",
     "text": [
      "\n",
      "                 Class     Images  Instances      Box(P          R      mAP50  mAP50-95): 100%|██████████| 31/31 [00:33<00:00,  1.08s/it]\n"
     ]
    },
    {
     "name": "stdout",
     "output_type": "stream",
     "text": [
      "                   all        481        804      0.638      0.628      0.679      0.546\n",
      "      short_sleeve_top        481        102       0.64      0.716      0.712      0.581\n",
      "              trousers        481        113      0.828      0.788      0.879       0.66\n",
      "                shorts        481         90      0.836      0.793      0.877      0.655\n",
      "       long_sleeve_top        481         79        0.7      0.503      0.639      0.506\n",
      "                 skirt        481         80      0.682      0.637      0.697      0.577\n",
      "            vest_dress        481         42      0.383      0.405      0.385      0.327\n",
      "    short_sleeve_dress        481         37      0.412      0.649      0.553      0.481\n",
      "                  vest        481         57      0.667      0.632      0.725      0.523\n",
      "   long_sleeve_outwear        481         41       0.68      0.725      0.742      0.621\n",
      "     long_sleeve_dress        481         39      0.672      0.538      0.663      0.588\n",
      "           sling_dress        481         45      0.493      0.467      0.503      0.411\n",
      "                 sling        481         41       0.73      0.634      0.746      0.584\n",
      "  short_sleeve_outwear        481         38      0.571      0.684        0.7      0.586\n",
      "Speed: 4.9ms preprocess, 43.0ms inference, 0.0ms loss, 6.7ms postprocess per image\n",
      "Results saved to \u001b[1mruns\\detect\\val20\u001b[0m\n"
     ]
    }
   ],
   "source": [
    "model = YOLO('runs/detect/train/weights/best.pt')\n",
    "metrics = model.val(data='config.yaml', split='val')"
   ]
  },
  {
   "cell_type": "markdown",
   "metadata": {},
   "source": [
    "### experimento 2"
   ]
  },
  {
   "cell_type": "code",
   "execution_count": 5,
   "metadata": {},
   "outputs": [
    {
     "name": "stdout",
     "output_type": "stream",
     "text": [
      "Ultralytics YOLOv8.1.27 🚀 Python-3.11.4 torch-2.2.1+cu121 CUDA:0 (NVIDIA GeForce RTX 2060, 6144MiB)\n",
      "Model summary (fused): 268 layers, 43616631 parameters, 0 gradients, 164.9 GFLOPs\n"
     ]
    },
    {
     "name": "stderr",
     "output_type": "stream",
     "text": [
      "\u001b[34m\u001b[1mval: \u001b[0mScanning C:\\Users\\pedro\\coding\\Buscador-de-roupas\\yolo\\datasets\\labels\\train... 4518 images, 0 backgrounds, 0 corrupt: 100%|██████████| 4518/4518 [00:06<00:00, 653.36it/s]\n"
     ]
    },
    {
     "name": "stdout",
     "output_type": "stream",
     "text": [
      "\u001b[34m\u001b[1mval: \u001b[0mNew cache created: C:\\Users\\pedro\\coding\\Buscador-de-roupas\\yolo\\datasets\\labels\\train.cache\n"
     ]
    },
    {
     "name": "stderr",
     "output_type": "stream",
     "text": [
      "                 Class     Images  Instances      Box(P          R      mAP50  mAP50-95): 100%|██████████| 283/283 [03:37<00:00,  1.30it/s]\n"
     ]
    },
    {
     "name": "stdout",
     "output_type": "stream",
     "text": [
      "                   all       4518       7676       0.89      0.866      0.939      0.832\n",
      "      short_sleeve_top       4518       1077      0.877      0.927      0.962      0.855\n",
      "              trousers       4518       1054      0.962      0.941      0.985      0.837\n",
      "                shorts       4518        861      0.948      0.914      0.978      0.824\n",
      "       long_sleeve_top       4518        633      0.892      0.849      0.946       0.84\n",
      "                 skirt       4518        821      0.912        0.9      0.954      0.839\n",
      "            vest_dress       4518        434      0.824      0.717       0.87      0.776\n",
      "    short_sleeve_dress       4518        379      0.927      0.802      0.919      0.844\n",
      "                  vest       4518        488      0.863      0.889      0.928      0.798\n",
      "   long_sleeve_outwear       4518        460      0.904      0.867      0.952      0.866\n",
      "     long_sleeve_dress       4518        367       0.89      0.817      0.926      0.879\n",
      "           sling_dress       4518        393      0.858      0.828      0.907      0.781\n",
      "                 sling       4518        362      0.875      0.893       0.93      0.784\n",
      "  short_sleeve_outwear       4518        347      0.837      0.914      0.953      0.889\n",
      "Speed: 0.4ms preprocess, 41.6ms inference, 0.0ms loss, 1.4ms postprocess per image\n",
      "Results saved to \u001b[1mruns\\detect\\val21\u001b[0m\n"
     ]
    }
   ],
   "source": [
    "model = YOLO('runs/detect/train3/weights/best.pt')\n",
    "metrics = model.val(data='config.yaml', split='train')"
   ]
  },
  {
   "cell_type": "code",
   "execution_count": 2,
   "metadata": {},
   "outputs": [
    {
     "name": "stdout",
     "output_type": "stream",
     "text": [
      "Ultralytics YOLOv8.1.27 🚀 Python-3.11.4 torch-2.2.1+cu121 CUDA:0 (NVIDIA GeForce RTX 2060, 6144MiB)\n",
      "Model summary (fused): 268 layers, 43616631 parameters, 0 gradients, 164.9 GFLOPs\n"
     ]
    },
    {
     "name": "stderr",
     "output_type": "stream",
     "text": [
      "\u001b[34m\u001b[1mval: \u001b[0mScanning C:\\Users\\pedro\\coding\\Buscador-de-roupas\\yolo\\datasets\\labels\\test.cache... 975 images, 0 backgrounds, 0 corrupt: 100%|██████████| 975/975 [00:00<?, ?it/s]\n",
      "                 Class     Images  Instances      Box(P          R      mAP50  mAP50-95): 100%|██████████| 61/61 [00:39<00:00,  1.56it/s]\n"
     ]
    },
    {
     "name": "stdout",
     "output_type": "stream",
     "text": [
      "                   all        975       1634      0.729      0.655      0.742      0.607\n",
      "      short_sleeve_top        975        243      0.732      0.733        0.8      0.648\n",
      "              trousers        975        213      0.899      0.797       0.92      0.707\n",
      "                shorts        975        191      0.926      0.764      0.892      0.684\n",
      "       long_sleeve_top        975        132      0.659      0.508      0.671       0.55\n",
      "                 skirt        975        170      0.665      0.694      0.736      0.613\n",
      "            vest_dress        975         90      0.619      0.656      0.624       0.53\n",
      "    short_sleeve_dress        975         80      0.819        0.6      0.693      0.606\n",
      "                  vest        975        101      0.605      0.614      0.652      0.507\n",
      "   long_sleeve_outwear        975         96      0.709      0.688      0.814      0.685\n",
      "     long_sleeve_dress        975         79      0.689      0.506      0.606      0.549\n",
      "           sling_dress        975         84      0.684      0.595      0.664      0.529\n",
      "                 sling        975         79      0.753      0.595       0.72      0.533\n",
      "  short_sleeve_outwear        975         76      0.715      0.763      0.858      0.748\n",
      "Speed: 0.3ms preprocess, 35.7ms inference, 0.0ms loss, 0.7ms postprocess per image\n",
      "Results saved to \u001b[1mruns\\detect\\val\u001b[0m\n"
     ]
    }
   ],
   "source": [
    "model = YOLO('runs/detect/train3/weights/best.pt')\n",
    "metrics = model.val(data='config.yaml', split='test')"
   ]
  },
  {
   "cell_type": "code",
   "execution_count": 3,
   "metadata": {},
   "outputs": [
    {
     "name": "stdout",
     "output_type": "stream",
     "text": [
      "Ultralytics YOLOv8.1.27 🚀 Python-3.11.4 torch-2.2.1+cu121 CUDA:0 (NVIDIA GeForce RTX 2060, 6144MiB)\n",
      "Model summary (fused): 268 layers, 43616631 parameters, 0 gradients, 164.9 GFLOPs\n"
     ]
    },
    {
     "name": "stderr",
     "output_type": "stream",
     "text": [
      "\u001b[34m\u001b[1mval: \u001b[0mScanning C:\\Users\\pedro\\coding\\Buscador-de-roupas\\yolo\\datasets\\labels\\val... 971 images, 0 backgrounds, 0 corrupt: 100%|██████████| 971/971 [00:01<00:00, 562.57it/s]"
     ]
    },
    {
     "name": "stdout",
     "output_type": "stream",
     "text": [
      "\u001b[34m\u001b[1mval: \u001b[0mNew cache created: C:\\Users\\pedro\\coding\\Buscador-de-roupas\\yolo\\datasets\\labels\\val.cache\n"
     ]
    },
    {
     "name": "stderr",
     "output_type": "stream",
     "text": [
      "\n",
      "                 Class     Images  Instances      Box(P          R      mAP50  mAP50-95): 100%|██████████| 61/61 [01:07<00:00,  1.11s/it]\n"
     ]
    },
    {
     "name": "stdout",
     "output_type": "stream",
     "text": [
      "                   all        971       1645      0.721       0.65      0.734      0.598\n",
      "      short_sleeve_top        971        225       0.77      0.742      0.793      0.651\n",
      "              trousers        971        229      0.897      0.835      0.923      0.725\n",
      "                shorts        971        198      0.886      0.747      0.877      0.641\n",
      "       long_sleeve_top        971        144      0.689      0.549      0.688      0.556\n",
      "                 skirt        971        163      0.717      0.668      0.713      0.584\n",
      "            vest_dress        971         84      0.609      0.594      0.616      0.517\n",
      "    short_sleeve_dress        971         79      0.684      0.629      0.694      0.597\n",
      "                  vest        971        107      0.676      0.626        0.7      0.563\n",
      "   long_sleeve_outwear        971         94       0.67      0.648      0.691      0.598\n",
      "     long_sleeve_dress        971         84       0.69       0.44      0.606      0.522\n",
      "           sling_dress        971         80      0.687      0.575      0.666      0.533\n",
      "                 sling        971         80      0.717      0.675      0.776      0.604\n",
      "  short_sleeve_outwear        971         78      0.682      0.718      0.801      0.679\n",
      "Speed: 0.3ms preprocess, 65.4ms inference, 0.0ms loss, 0.8ms postprocess per image\n",
      "Results saved to \u001b[1mruns\\detect\\val2\u001b[0m\n"
     ]
    }
   ],
   "source": [
    "model = YOLO('runs/detect/train3/weights/best.pt')\n",
    "metrics = model.val(data='config.yaml', split='val')"
   ]
  },
  {
   "cell_type": "markdown",
   "metadata": {},
   "source": [
    "### experimento 3"
   ]
  },
  {
   "cell_type": "code",
   "execution_count": 4,
   "metadata": {},
   "outputs": [
    {
     "name": "stdout",
     "output_type": "stream",
     "text": [
      "Ultralytics YOLOv8.1.27 🚀 Python-3.11.4 torch-2.2.1+cu121 CUDA:0 (NVIDIA GeForce RTX 2060, 6144MiB)\n",
      "Model summary (fused): 268 layers, 43616631 parameters, 0 gradients, 164.9 GFLOPs\n"
     ]
    },
    {
     "name": "stderr",
     "output_type": "stream",
     "text": [
      "\u001b[34m\u001b[1mval: \u001b[0mScanning C:\\Users\\pedro\\coding\\Buscador-de-roupas\\yolo\\datasets\\labels\\train... 8662 images, 0 backgrounds, 0 corrupt: 100%|██████████| 8662/8662 [00:11<00:00, 735.31it/s]\n"
     ]
    },
    {
     "name": "stdout",
     "output_type": "stream",
     "text": [
      "\u001b[34m\u001b[1mval: \u001b[0mNew cache created: C:\\Users\\pedro\\coding\\Buscador-de-roupas\\yolo\\datasets\\labels\\train.cache\n"
     ]
    },
    {
     "name": "stderr",
     "output_type": "stream",
     "text": [
      "                 Class     Images  Instances      Box(P          R      mAP50  mAP50-95): 100%|██████████| 542/542 [05:13<00:00,  1.73it/s]\n"
     ]
    },
    {
     "name": "stdout",
     "output_type": "stream",
     "text": [
      "                   all       8662      14621      0.861      0.824      0.908      0.786\n",
      "      short_sleeve_top       8662       2136      0.898      0.887      0.953      0.825\n",
      "              trousers       8662       2047      0.932      0.925      0.975      0.807\n",
      "                shorts       8662       1639       0.96       0.89      0.971      0.796\n",
      "       long_sleeve_top       8662       1244      0.845      0.839      0.913        0.8\n",
      "                 skirt       8662       1497      0.869      0.852      0.926      0.798\n",
      "            vest_dress       8662        816      0.794      0.688      0.828      0.745\n",
      "    short_sleeve_dress       8662        756      0.777      0.815      0.883      0.799\n",
      "                  vest       8662        982      0.865      0.834      0.915      0.768\n",
      "   long_sleeve_outwear       8662        907      0.852      0.861      0.923      0.823\n",
      "     long_sleeve_dress       8662        737      0.797      0.779      0.863      0.786\n",
      "           sling_dress       8662        771       0.82      0.796      0.867      0.732\n",
      "                 sling       8662        713      0.873      0.839      0.913      0.762\n",
      "  short_sleeve_outwear       8662        376      0.911       0.71      0.873      0.779\n",
      "Speed: 0.2ms preprocess, 32.4ms inference, 0.0ms loss, 0.8ms postprocess per image\n",
      "Results saved to \u001b[1mruns\\detect\\val3\u001b[0m\n"
     ]
    }
   ],
   "source": [
    "model = YOLO('runs/detect/train4/weights/best.pt')\n",
    "metrics = model.val(data='config.yaml', split='train')"
   ]
  },
  {
   "cell_type": "code",
   "execution_count": 5,
   "metadata": {},
   "outputs": [
    {
     "name": "stdout",
     "output_type": "stream",
     "text": [
      "Ultralytics YOLOv8.1.27 🚀 Python-3.11.4 torch-2.2.1+cu121 CUDA:0 (NVIDIA GeForce RTX 2060, 6144MiB)\n",
      "Model summary (fused): 268 layers, 43616631 parameters, 0 gradients, 164.9 GFLOPs\n"
     ]
    },
    {
     "name": "stderr",
     "output_type": "stream",
     "text": [
      "\u001b[34m\u001b[1mval: \u001b[0mScanning C:\\Users\\pedro\\coding\\Buscador-de-roupas\\yolo\\datasets\\labels\\test... 1876 images, 0 backgrounds, 0 corrupt: 100%|██████████| 1876/1876 [00:02<00:00, 632.50it/s]\n"
     ]
    },
    {
     "name": "stdout",
     "output_type": "stream",
     "text": [
      "\u001b[34m\u001b[1mval: \u001b[0mNew cache created: C:\\Users\\pedro\\coding\\Buscador-de-roupas\\yolo\\datasets\\labels\\test.cache\n"
     ]
    },
    {
     "name": "stderr",
     "output_type": "stream",
     "text": [
      "                 Class     Images  Instances      Box(P          R      mAP50  mAP50-95): 100%|██████████| 118/118 [01:17<00:00,  1.52it/s]\n"
     ]
    },
    {
     "name": "stdout",
     "output_type": "stream",
     "text": [
      "                   all       1876       3198      0.744      0.697      0.775      0.637\n",
      "      short_sleeve_top       1876        455      0.811      0.802      0.878      0.726\n",
      "              trousers       1876        460      0.861      0.863      0.928      0.714\n",
      "                shorts       1876        363      0.912      0.798      0.911       0.72\n",
      "       long_sleeve_top       1876        264      0.734      0.689       0.78      0.637\n",
      "                 skirt       1876        334      0.703      0.689      0.762      0.618\n",
      "            vest_dress       1876        173      0.615      0.595      0.628      0.544\n",
      "    short_sleeve_dress       1876        157      0.607      0.624      0.655      0.578\n",
      "                  vest       1876        206      0.768      0.709      0.776       0.63\n",
      "   long_sleeve_outwear       1876        211      0.723      0.735      0.793      0.656\n",
      "     long_sleeve_dress       1876        161      0.658      0.602      0.693      0.607\n",
      "           sling_dress       1876        171      0.697      0.678      0.744      0.606\n",
      "                 sling       1876        160      0.755      0.675       0.77      0.584\n",
      "  short_sleeve_outwear       1876         83      0.829      0.602      0.763      0.659\n",
      "Speed: 0.4ms preprocess, 37.0ms inference, 0.0ms loss, 0.8ms postprocess per image\n",
      "Results saved to \u001b[1mruns\\detect\\val4\u001b[0m\n"
     ]
    }
   ],
   "source": [
    "model = YOLO('runs/detect/train4/weights/best.pt')\n",
    "metrics = model.val(data='config.yaml', split='test')"
   ]
  },
  {
   "cell_type": "code",
   "execution_count": 2,
   "metadata": {},
   "outputs": [
    {
     "name": "stdout",
     "output_type": "stream",
     "text": [
      "Ultralytics YOLOv8.1.27 🚀 Python-3.11.4 torch-2.2.1+cu121 CUDA:0 (NVIDIA GeForce RTX 2060, 6144MiB)\n",
      "Model summary (fused): 268 layers, 43616631 parameters, 0 gradients, 164.9 GFLOPs\n"
     ]
    },
    {
     "name": "stderr",
     "output_type": "stream",
     "text": [
      "\u001b[34m\u001b[1mval: \u001b[0mScanning C:\\Users\\pedro\\coding\\Buscador-de-roupas\\yolo\\datasets\\labels\\val.cache... 1873 images, 0 backgrounds, 0 corrupt: 100%|██████████| 1873/1873 [00:00<?, ?it/s]\n",
      "                 Class     Images  Instances      Box(P          R      mAP50  mAP50-95): 100%|██████████| 118/118 [01:01<00:00,  1.91it/s]\n"
     ]
    },
    {
     "name": "stdout",
     "output_type": "stream",
     "text": [
      "                   all       1873       3122      0.733      0.706      0.778      0.638\n",
      "      short_sleeve_top       1873        438      0.797       0.79       0.87      0.709\n",
      "              trousers       1873        439       0.88      0.838      0.932      0.718\n",
      "                shorts       1873        341      0.879       0.76      0.889      0.673\n",
      "       long_sleeve_top       1873        264      0.682      0.701      0.762       0.62\n",
      "                 skirt       1873        338      0.737      0.686      0.773      0.619\n",
      "            vest_dress       1873        169      0.598      0.604      0.626       0.54\n",
      "    short_sleeve_dress       1873        160       0.57        0.7      0.647      0.586\n",
      "                  vest       1873        216       0.72      0.772      0.827      0.657\n",
      "   long_sleeve_outwear       1873        191      0.709      0.712      0.765      0.646\n",
      "     long_sleeve_dress       1873        157      0.659      0.662      0.714      0.643\n",
      "           sling_dress       1873        167      0.721      0.707       0.77      0.612\n",
      "                 sling       1873        158      0.828      0.684      0.786      0.604\n",
      "  short_sleeve_outwear       1873         84      0.747      0.562      0.757       0.67\n",
      "Speed: 0.3ms preprocess, 29.4ms inference, 0.0ms loss, 0.7ms postprocess per image\n",
      "Results saved to \u001b[1mruns\\detect\\val6\u001b[0m\n"
     ]
    }
   ],
   "source": [
    "model = YOLO('runs/detect/train4/weights/best.pt')\n",
    "metrics = model.val(data='config.yaml', split='val')"
   ]
  }
 ],
 "metadata": {
  "kernelspec": {
   "display_name": "tcc",
   "language": "python",
   "name": "python3"
  },
  "language_info": {
   "codemirror_mode": {
    "name": "ipython",
    "version": 3
   },
   "file_extension": ".py",
   "mimetype": "text/x-python",
   "name": "python",
   "nbconvert_exporter": "python",
   "pygments_lexer": "ipython3",
   "version": "3.11.4"
  },
  "orig_nbformat": 4
 },
 "nbformat": 4,
 "nbformat_minor": 2
}
